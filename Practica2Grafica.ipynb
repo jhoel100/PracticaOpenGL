{
 "cells": [
  {
   "cell_type": "code",
   "execution_count": 1,
   "metadata": {},
   "outputs": [],
   "source": [
    "import cv2\n",
    "import numpy as np\n",
    "import math\n",
    "from matplotlib import pyplot as plt"
   ]
  },
  {
   "cell_type": "markdown",
   "metadata": {},
   "source": [
    "# Practica 3"
   ]
  },
  {
   "cell_type": "code",
   "execution_count": 23,
   "metadata": {},
   "outputs": [],
   "source": [
    "img = cv2.imread(\"p21.png\")\n",
    "cv2.imshow('Inicial', img)\n",
    "\n",
    "if cv2.waitKey(0) & 0xff == 27:\n",
    "    cv2.destroyAllWindows()"
   ]
  },
  {
   "cell_type": "code",
   "execution_count": 3,
   "metadata": {},
   "outputs": [],
   "source": [
    "def Equalization(imagen):\n",
    "    p=np.zeros(256)\n",
    "    s=np.zeros(256)\n",
    "    modificado=imagen\n",
    "    \n",
    "    for i in range(len(imagen)):\n",
    "        for j in range(len(imagen[i])):\n",
    "            p[imagen[i][j]]=p[imagen[i][j]]+1\n",
    "            \n",
    "    for i in range(len(s)):\n",
    "        P=0\n",
    "        for j in range(i+1):\n",
    "             P=P+p[j]\n",
    "        s[i]=math.floor((256-1)*P/(len(imagen)*len(imagen[i])))\n",
    "        \n",
    "    for i in range(len(imagen)):\n",
    "        for j in range(len(imagen[i])):\n",
    "            modificado[i][j]=s[imagen[i][j]]\n",
    "\n",
    "    return modificado"
   ]
  },
  {
   "cell_type": "code",
   "execution_count": 6,
   "metadata": {},
   "outputs": [],
   "source": [
    "img = cv2.imread(\"p21.png\")\n",
    "cv2.imshow('Inicial', img)\n",
    "\n",
    "modif=Equalization(img)\n",
    "cv2.imshow('Modificado', modif)\n",
    "\n",
    "if cv2.waitKey(0) & 0xff == 27:\n",
    "    cv2.destroyAllWindows()"
   ]
  },
  {
   "cell_type": "code",
   "execution_count": 7,
   "metadata": {},
   "outputs": [],
   "source": [
    "img = cv2.imread(\"p22.png\")\n",
    "cv2.imshow('Inicial', img)\n",
    "\n",
    "modif=Equalization(img)\n",
    "cv2.imshow('Modificado', modif)\n",
    "\n",
    "if cv2.waitKey(0) & 0xff == 27:\n",
    "    cv2.destroyAllWindows()"
   ]
  },
  {
   "cell_type": "code",
   "execution_count": 8,
   "metadata": {},
   "outputs": [],
   "source": [
    "img = cv2.imread(\"p23.png\")\n",
    "cv2.imshow('Inicial', img)\n",
    "\n",
    "modif=Equalization(img)\n",
    "cv2.imshow('Modificado', modif)\n",
    "\n",
    "if cv2.waitKey(0) & 0xff == 27:\n",
    "    cv2.destroyAllWindows()"
   ]
  },
  {
   "cell_type": "code",
   "execution_count": 9,
   "metadata": {},
   "outputs": [],
   "source": [
    "def Equalization2(ref,imagen):\n",
    "    p=np.zeros(256)\n",
    "    s=np.zeros(256)\n",
    "    modificado=imagen\n",
    "    \n",
    "    for i in range(len(ref)):\n",
    "        for j in range(len(ref[i])):\n",
    "            p[ref[i][j]]=p[ref[i][j]]+1\n",
    "            \n",
    "    for i in range(len(s)):\n",
    "        P=0\n",
    "        for j in range(i+1):\n",
    "             P=P+p[j]\n",
    "        s[i]=math.floor((256-1)*P/(len(ref)*len(ref[0])))\n",
    "        \n",
    "    for i in range(len(imagen)):\n",
    "        for j in range(len(imagen[i])):\n",
    "            modificado[i][j]=s[imagen[i][j]]\n",
    "\n",
    "    return modificado"
   ]
  },
  {
   "cell_type": "code",
   "execution_count": 10,
   "metadata": {},
   "outputs": [],
   "source": [
    "img = cv2.imread(\"p23.png\")\n",
    "img2 = cv2.imread(\"p24.png\")\n",
    "cv2.imshow('Inicial', img)\n",
    "\n",
    "modif=Equalization2(img2,img)\n",
    "cv2.imshow('Modificado', modif)\n",
    "\n",
    "if cv2.waitKey(0) & 0xff == 27:\n",
    "    cv2.destroyAllWindows()"
   ]
  },
  {
   "cell_type": "markdown",
   "metadata": {},
   "source": [
    "# Practica 4"
   ]
  },
  {
   "cell_type": "code",
   "execution_count": 2,
   "metadata": {},
   "outputs": [],
   "source": [
    "def Log(imagen,c):\n",
    "    modificado=imagen\n",
    "    \n",
    "    for i in range(len(imagen)):\n",
    "        for j in range(len(imagen[i])):\n",
    "            if(c*math.log(1+imagen[i][j],10))>255:\n",
    "                modificado[i][j]=255\n",
    "            else:\n",
    "                modificado[i][j]=c*math.log(1+imagen[i][j],10)                \n",
    "            \n",
    "    return modificado"
   ]
  },
  {
   "cell_type": "code",
   "execution_count": 3,
   "metadata": {},
   "outputs": [],
   "source": [
    "img = cv2.imread(\"p25.png\",cv2.IMREAD_GRAYSCALE)\n",
    "cv2.imshow('Inicial', img)\n",
    "\n",
    "modif=Log(img,75)\n",
    "cv2.imshow('Modificado', modif)\n",
    "\n",
    "if cv2.waitKey(0) & 0xff == 27:\n",
    "    cv2.destroyAllWindows()"
   ]
  },
  {
   "cell_type": "code",
   "execution_count": 4,
   "metadata": {},
   "outputs": [],
   "source": [
    "img = cv2.imread(\"p25.png\",cv2.IMREAD_GRAYSCALE)\n",
    "cv2.imshow('Inicial', img)\n",
    "\n",
    "modif=Log(img,100)\n",
    "cv2.imshow('Modificado', modif)\n",
    "\n",
    "if cv2.waitKey(0) & 0xff == 27:\n",
    "    cv2.destroyAllWindows()"
   ]
  },
  {
   "cell_type": "code",
   "execution_count": 6,
   "metadata": {},
   "outputs": [],
   "source": [
    "img = cv2.imread(\"p25.png\",cv2.IMREAD_GRAYSCALE)\n",
    "cv2.imshow('Inicial', img)\n",
    "\n",
    "modif=Log(img,125)\n",
    "cv2.imshow('Modificado', modif)\n",
    "\n",
    "if cv2.waitKey(0) & 0xff == 27:\n",
    "    cv2.destroyAllWindows()"
   ]
  },
  {
   "cell_type": "code",
   "execution_count": 9,
   "metadata": {},
   "outputs": [],
   "source": [
    "img = cv2.imread(\"p26.png\",cv2.IMREAD_GRAYSCALE)\n",
    "cv2.imshow('Inicial', img)\n",
    "\n",
    "modif=Log(img,75)\n",
    "cv2.imshow('Modificado', modif)\n",
    "\n",
    "if cv2.waitKey(0) & 0xff == 27:\n",
    "    cv2.destroyAllWindows()"
   ]
  },
  {
   "cell_type": "code",
   "execution_count": 10,
   "metadata": {},
   "outputs": [],
   "source": [
    "img = cv2.imread(\"p26.png\",cv2.IMREAD_GRAYSCALE)\n",
    "cv2.imshow('Inicial', img)\n",
    "\n",
    "modif=Log(img,100)\n",
    "cv2.imshow('Modificado', modif)\n",
    "\n",
    "if cv2.waitKey(0) & 0xff == 27:\n",
    "    cv2.destroyAllWindows()"
   ]
  },
  {
   "cell_type": "code",
   "execution_count": 11,
   "metadata": {},
   "outputs": [],
   "source": [
    "img = cv2.imread(\"p26.png\",cv2.IMREAD_GRAYSCALE)\n",
    "cv2.imshow('Inicial', img)\n",
    "\n",
    "modif=Log(img,125)\n",
    "cv2.imshow('Modificado', modif)\n",
    "\n",
    "if cv2.waitKey(0) & 0xff == 27:\n",
    "    cv2.destroyAllWindows()"
   ]
  },
  {
   "cell_type": "code",
   "execution_count": 14,
   "metadata": {},
   "outputs": [],
   "source": [
    "img = cv2.imread(\"p27.png\",cv2.IMREAD_GRAYSCALE)\n",
    "cv2.imshow('Inicial', img)\n",
    "\n",
    "modif=Log(img,100)\n",
    "cv2.imshow('Modificado', modif)\n",
    "\n",
    "if cv2.waitKey(0) & 0xff == 27:\n",
    "    cv2.destroyAllWindows()"
   ]
  },
  {
   "cell_type": "code",
   "execution_count": 15,
   "metadata": {},
   "outputs": [],
   "source": [
    "def Sqrt(imagen,c):\n",
    "    modificado=imagen\n",
    "    \n",
    "    for i in range(len(imagen)):\n",
    "        for j in range(len(imagen[i])):\n",
    "            modificado[i][j]=c*math.sqrt(imagen[i][j])\n",
    "    return modificado"
   ]
  },
  {
   "cell_type": "code",
   "execution_count": 16,
   "metadata": {},
   "outputs": [],
   "source": [
    "img = cv2.imread(\"p28.png\",cv2.IMREAD_GRAYSCALE)\n",
    "cv2.imshow('Inicial', img)\n",
    "\n",
    "modif=Log(img,90)\n",
    "cv2.imshow('Modificado', modif)\n",
    "\n",
    "if cv2.waitKey(0) & 0xff == 27:\n",
    "    cv2.destroyAllWindows()"
   ]
  },
  {
   "cell_type": "markdown",
   "metadata": {},
   "source": [
    "# Practica 5"
   ]
  },
  {
   "cell_type": "code",
   "execution_count": 17,
   "metadata": {},
   "outputs": [],
   "source": [
    "def Expo(imagen,c,b):\n",
    "    modificado=imagen\n",
    "    \n",
    "    for i in range(len(imagen)):\n",
    "        for j in range(len(imagen[i])):\n",
    "            if(c*(b**(modificado[i][j])-1)>255):\n",
    "                modificado[i][j]=255\n",
    "            else:\n",
    "                modificado[i][j]=c*(b**(modificado[i][j])-1)\n",
    "            \n",
    "    return modificado\n",
    "\n",
    "def Raise(imagen,c,r):\n",
    "    modificado=imagen\n",
    "    \n",
    "    for i in range(len(imagen)):\n",
    "        for j in range(len(imagen[i])):\n",
    "            if(c*modificado[i][j]**r>255):\n",
    "                modificado[i][j]=255\n",
    "            else:\n",
    "                modificado[i][j]=c*modificado[i][j]**r\n",
    "    return modificado"
   ]
  },
  {
   "cell_type": "code",
   "execution_count": 21,
   "metadata": {},
   "outputs": [],
   "source": [
    "img = cv2.imread(\"p27.png\",cv2.IMREAD_GRAYSCALE)\n",
    "cv2.imshow('Inicial', img)\n",
    "\n",
    "modif=Expo(img,10,1.01)\n",
    "cv2.imshow('Modificado', modif)\n",
    "\n",
    "if cv2.waitKey(0) & 0xff == 27:\n",
    "    cv2.destroyAllWindows()"
   ]
  },
  {
   "cell_type": "code",
   "execution_count": 22,
   "metadata": {},
   "outputs": [],
   "source": [
    "img = cv2.imread(\"p27.png\",cv2.IMREAD_GRAYSCALE)\n",
    "cv2.imshow('Inicial', img)\n",
    "\n",
    "modif=Expo(img,20,1.01)\n",
    "cv2.imshow('Modificado', modif)\n",
    "\n",
    "if cv2.waitKey(0) & 0xff == 27:\n",
    "    cv2.destroyAllWindows()"
   ]
  },
  {
   "cell_type": "code",
   "execution_count": 23,
   "metadata": {},
   "outputs": [],
   "source": [
    "img = cv2.imread(\"p27.png\",cv2.IMREAD_GRAYSCALE)\n",
    "cv2.imshow('Inicial', img)\n",
    "\n",
    "modif=Expo(img,5,1.01)\n",
    "cv2.imshow('Modificado', modif)\n",
    "\n",
    "if cv2.waitKey(0) & 0xff == 27:\n",
    "    cv2.destroyAllWindows()"
   ]
  },
  {
   "cell_type": "code",
   "execution_count": 27,
   "metadata": {},
   "outputs": [],
   "source": [
    "img = cv2.imread(\"p27.png\",cv2.IMREAD_GRAYSCALE)\n",
    "cv2.imshow('Inicial', img)\n",
    "\n",
    "modif=Raise(img,0.1,1.5)\n",
    "cv2.imshow('Modificado', modif)\n",
    "\n",
    "if cv2.waitKey(0) & 0xff == 27:\n",
    "    cv2.destroyAllWindows()"
   ]
  },
  {
   "cell_type": "code",
   "execution_count": 28,
   "metadata": {},
   "outputs": [],
   "source": [
    "img = cv2.imread(\"p27.png\",cv2.IMREAD_GRAYSCALE)\n",
    "cv2.imshow('Inicial', img)\n",
    "\n",
    "modif=Raise(img,0.05,1.5)\n",
    "cv2.imshow('Modificado', modif)\n",
    "\n",
    "if cv2.waitKey(0) & 0xff == 27:\n",
    "    cv2.destroyAllWindows()"
   ]
  },
  {
   "cell_type": "code",
   "execution_count": 30,
   "metadata": {},
   "outputs": [],
   "source": [
    "img = cv2.imread(\"p27.png\",cv2.IMREAD_GRAYSCALE)\n",
    "cv2.imshow('Inicial', img)\n",
    "\n",
    "modif=Raise(img,0.01,1.5)\n",
    "cv2.imshow('Modificado', modif)\n",
    "\n",
    "if cv2.waitKey(0) & 0xff == 27:\n",
    "    cv2.destroyAllWindows()"
   ]
  },
  {
   "cell_type": "markdown",
   "metadata": {},
   "source": [
    "# Segunda parte"
   ]
  },
  {
   "cell_type": "code",
   "execution_count": 31,
   "metadata": {},
   "outputs": [],
   "source": [
    "img = cv2.imread(\"p26.png\",cv2.IMREAD_GRAYSCALE)\n",
    "cv2.imshow('Inicial', img)\n",
    "\n",
    "modif=Raise(img,0.08,1.5)\n",
    "cv2.imshow('Modificado', modif)\n",
    "\n",
    "if cv2.waitKey(0) & 0xff == 27:\n",
    "    cv2.destroyAllWindows()\n"
   ]
  },
  {
   "cell_type": "code",
   "execution_count": 32,
   "metadata": {},
   "outputs": [],
   "source": [
    "img = cv2.imread(\"p26.png\",cv2.IMREAD_GRAYSCALE)\n",
    "cv2.imshow('Inicial', img)\n",
    "\n",
    "modif=Raise(img,0.05,1.5)\n",
    "cv2.imshow('Modificado', modif)\n",
    "\n",
    "if cv2.waitKey(0) & 0xff == 27:\n",
    "    cv2.destroyAllWindows()"
   ]
  },
  {
   "cell_type": "code",
   "execution_count": 33,
   "metadata": {},
   "outputs": [],
   "source": [
    "img = cv2.imread(\"p26.png\",cv2.IMREAD_GRAYSCALE)\n",
    "cv2.imshow('Inicial', img)\n",
    "\n",
    "modif=Raise(img,0.01,1.5)\n",
    "cv2.imshow('Modificado', modif)\n",
    "\n",
    "if cv2.waitKey(0) & 0xff == 27:\n",
    "    cv2.destroyAllWindows()"
   ]
  },
  {
   "cell_type": "code",
   "execution_count": 34,
   "metadata": {},
   "outputs": [],
   "source": [
    "img = cv2.imread(\"p26.png\",cv2.IMREAD_GRAYSCALE)\n",
    "cv2.imshow('Inicial', img)\n",
    "\n",
    "modif=Expo(img,10,1.01)\n",
    "cv2.imshow('Modificado', modif)\n",
    "\n",
    "if cv2.waitKey(0) & 0xff == 27:\n",
    "    cv2.destroyAllWindows()"
   ]
  },
  {
   "cell_type": "code",
   "execution_count": 36,
   "metadata": {},
   "outputs": [],
   "source": [
    "img = cv2.imread(\"p26.png\",cv2.IMREAD_GRAYSCALE)\n",
    "cv2.imshow('Inicial', img)\n",
    "\n",
    "modif=Expo(img,20,1.01)\n",
    "cv2.imshow('Modificado', modif)\n",
    "\n",
    "if cv2.waitKey(0) & 0xff == 27:\n",
    "    cv2.destroyAllWindows()"
   ]
  },
  {
   "cell_type": "code",
   "execution_count": 37,
   "metadata": {},
   "outputs": [],
   "source": [
    "img = cv2.imread(\"p26.png\",cv2.IMREAD_GRAYSCALE)\n",
    "cv2.imshow('Inicial', img)\n",
    "\n",
    "modif=Expo(img,5,1.01)\n",
    "cv2.imshow('Modificado', modif)\n",
    "\n",
    "if cv2.waitKey(0) & 0xff == 27:\n",
    "    cv2.destroyAllWindows()"
   ]
  },
  {
   "cell_type": "markdown",
   "metadata": {},
   "source": [
    "# ultima parte"
   ]
  },
  {
   "cell_type": "code",
   "execution_count": 38,
   "metadata": {},
   "outputs": [],
   "source": [
    "img = cv2.imread(\"p29.png\",cv2.IMREAD_GRAYSCALE)\n",
    "cv2.imshow('Inicial', img)\n",
    "\n",
    "modif=Log(img,90)\n",
    "cv2.imshow('Modificado', modif)\n",
    "\n",
    "if cv2.waitKey(0) & 0xff == 27:\n",
    "    cv2.destroyAllWindows()"
   ]
  },
  {
   "cell_type": "code",
   "execution_count": 39,
   "metadata": {},
   "outputs": [],
   "source": [
    "img = cv2.imread(\"p29.png\",cv2.IMREAD_GRAYSCALE)\n",
    "cv2.imshow('Inicial', img)\n",
    "\n",
    "modif=Expo(img,20,1.01)\n",
    "cv2.imshow('Modificado', modif)\n",
    "\n",
    "if cv2.waitKey(0) & 0xff == 27:\n",
    "    cv2.destroyAllWindows()"
   ]
  },
  {
   "cell_type": "code",
   "execution_count": 41,
   "metadata": {},
   "outputs": [],
   "source": [
    "img = cv2.imread(\"p29.png\",cv2.IMREAD_GRAYSCALE)\n",
    "cv2.imshow('Inicial', img)\n",
    "\n",
    "modif=Raise(img,0.05,1.5)\n",
    "cv2.imshow('Modificado', modif)\n",
    "\n",
    "if cv2.waitKey(0) & 0xff == 27:\n",
    "    cv2.destroyAllWindows()"
   ]
  },
  {
   "cell_type": "code",
   "execution_count": null,
   "metadata": {},
   "outputs": [],
   "source": []
  }
 ],
 "metadata": {
  "kernelspec": {
   "display_name": "Python 3",
   "language": "python",
   "name": "python3"
  },
  "language_info": {
   "codemirror_mode": {
    "name": "ipython",
    "version": 3
   },
   "file_extension": ".py",
   "mimetype": "text/x-python",
   "name": "python",
   "nbconvert_exporter": "python",
   "pygments_lexer": "ipython3",
   "version": "3.7.6"
  }
 },
 "nbformat": 4,
 "nbformat_minor": 4
}
